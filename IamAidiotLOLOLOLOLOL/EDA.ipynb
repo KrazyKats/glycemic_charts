{
 "cells": [
  {
   "cell_type": "code",
   "execution_count": 9,
   "id": "8e21ff20",
   "metadata": {},
   "outputs": [],
   "source": [
    "import json\n",
    "import pandas as pd\n",
    "\n",
    "# load data/Output/jsons/Demographics.json\n",
    "demographics = pd.read_json('../data/Output/jsons/Demographics.json').set_index('ID')\n",
    "# load data/Output/jsons/glucose.json\n",
    "glucose = json.load(open('../data/Output/jsons/glucose.json'))"
   ]
  },
  {
   "cell_type": "code",
   "execution_count": 13,
   "id": "1e49a710",
   "metadata": {},
   "outputs": [],
   "source": [
    "# make list of prediabetic patients and non-prediabetic patients based on HbA1c\n",
    "prediabetic_patients = []\n",
    "non_prediabetic_patients = []\n",
    "for patient in demographics.index:\n",
    "    # get the patient's HbA1c value\n",
    "    hba1c = demographics.loc[patient]['HbA1c']\n",
    "    # check if the patient is prediabetic\n",
    "    if hba1c >= 5.7 and hba1c < 6.5:\n",
    "        prediabetic_patients.append(patient)\n",
    "    else:\n",
    "        non_prediabetic_patients.append(patient)"
   ]
  },
  {
   "cell_type": "code",
   "execution_count": 16,
   "id": "506c0a3e",
   "metadata": {},
   "outputs": [],
   "source": [
    "# make list of male and female patients\n",
    "male_list = []\n",
    "female_list = []\n",
    "for patient in demographics.index:\n",
    "    # get the patient's\n",
    "    gender = demographics.loc[patient][\"Gender\"]\n",
    "    if gender == \"MALE\":\n",
    "        male_list.append(patient)\n",
    "    else:\n",
    "        female_list.append(patient)\n"
   ]
  },
  {
   "cell_type": "code",
   "execution_count": 14,
   "id": "c25e82c4",
   "metadata": {},
   "outputs": [
    {
     "data": {
      "text/plain": [
       "[13, 3, 4, 5, 6, 10, 9, 11]"
      ]
     },
     "execution_count": 14,
     "metadata": {},
     "output_type": "execute_result"
    }
   ],
   "source": [
    "prediabetic_patients"
   ]
  },
  {
   "cell_type": "code",
   "execution_count": 15,
   "id": "d1141eea",
   "metadata": {},
   "outputs": [
    {
     "data": {
      "text/plain": [
       "[1, 2, 7, 8, 12, 14, 15, 16]"
      ]
     },
     "execution_count": 15,
     "metadata": {},
     "output_type": "execute_result"
    }
   ],
   "source": [
    "non_prediabetic_patients"
   ]
  },
  {
   "cell_type": "code",
   "execution_count": 17,
   "id": "d4b9cd16",
   "metadata": {},
   "outputs": [
    {
     "data": {
      "text/plain": [
       "[13, 2, 9, 11, 12, 14, 16]"
      ]
     },
     "execution_count": 17,
     "metadata": {},
     "output_type": "execute_result"
    }
   ],
   "source": [
    "male_list"
   ]
  },
  {
   "cell_type": "code",
   "execution_count": 18,
   "id": "c040a761",
   "metadata": {},
   "outputs": [
    {
     "data": {
      "text/plain": [
       "[1, 3, 4, 5, 6, 7, 8, 10, 15]"
      ]
     },
     "execution_count": 18,
     "metadata": {},
     "output_type": "execute_result"
    }
   ],
   "source": [
    "female_list"
   ]
  },
  {
   "cell_type": "code",
   "execution_count": 35,
   "id": "036d8073",
   "metadata": {},
   "outputs": [],
   "source": [
    "# create an average glucose level for each patient list from the glucose data\n",
    "def average_glucose(patient_list):\n",
    "    glucose_list = []\n",
    "    for patient in patient_list:\n",
    "\n",
    "        #convert patient ID to string with leading zeros for 3 digits\n",
    "        patient = str(patient).zfill(3)\n",
    "        # get the patient's glucose data\n",
    "        try:\n",
    "            glucose_data = glucose[patient]\n",
    "        except KeyError:\n",
    "            glucose_list.append(None)\n",
    "            # if the patient does not have glucose data, skip them\n",
    "            continue\n",
    "        # calculate the average glucose level\n",
    "        # each element in the glucose data is a dictionary with a 'glucose' key\n",
    "        glucose_data = [entry['glucose'] for entry in glucose_data if 'glucose' in entry]\n",
    "\n",
    "        avg_glucose = sum(glucose_data) / len(glucose_data)\n",
    "        glucose_list.append(avg_glucose)\n",
    "    return glucose_list\n",
    "\n",
    "# create a dataframe for the prediabetic patients\n",
    "prediabetic_df = pd.DataFrame({\n",
    "    'ID': prediabetic_patients,\n",
    "    'Average Glucose': average_glucose(prediabetic_patients)\n",
    "})\n",
    "# create a dataframe for the non-prediabetic patients\n",
    "non_prediabetic_df = pd.DataFrame({\n",
    "    'ID': non_prediabetic_patients,\n",
    "    'Average Glucose': average_glucose(non_prediabetic_patients)\n",
    "})\n",
    "\n",
    "# create a dataframe for male patients\n",
    "male_df = pd.DataFrame({\n",
    "    'ID': male_list,\n",
    "    'Average Glucose': average_glucose(male_list)\n",
    "})\n",
    "\n",
    "female_df = pd.DataFrame({\n",
    "    'ID': female_list,\n",
    "    'Average Glucose': average_glucose(female_list)\n",
    "})\n",
    "\n"
   ]
  },
  {
   "cell_type": "code",
   "execution_count": 32,
   "id": "2b4c6fad",
   "metadata": {},
   "outputs": [
    {
     "data": {
      "text/html": [
       "<div>\n",
       "<style scoped>\n",
       "    .dataframe tbody tr th:only-of-type {\n",
       "        vertical-align: middle;\n",
       "    }\n",
       "\n",
       "    .dataframe tbody tr th {\n",
       "        vertical-align: top;\n",
       "    }\n",
       "\n",
       "    .dataframe thead th {\n",
       "        text-align: right;\n",
       "    }\n",
       "</style>\n",
       "<table border=\"1\" class=\"dataframe\">\n",
       "  <thead>\n",
       "    <tr style=\"text-align: right;\">\n",
       "      <th></th>\n",
       "      <th>ID</th>\n",
       "      <th>Average Glucose</th>\n",
       "    </tr>\n",
       "  </thead>\n",
       "  <tbody>\n",
       "    <tr>\n",
       "      <th>0</th>\n",
       "      <td>13</td>\n",
       "      <td>127.456796</td>\n",
       "    </tr>\n",
       "    <tr>\n",
       "      <th>1</th>\n",
       "      <td>3</td>\n",
       "      <td>107.886620</td>\n",
       "    </tr>\n",
       "    <tr>\n",
       "      <th>2</th>\n",
       "      <td>4</td>\n",
       "      <td>112.646488</td>\n",
       "    </tr>\n",
       "    <tr>\n",
       "      <th>3</th>\n",
       "      <td>5</td>\n",
       "      <td>104.728303</td>\n",
       "    </tr>\n",
       "    <tr>\n",
       "      <th>4</th>\n",
       "      <td>6</td>\n",
       "      <td>124.586934</td>\n",
       "    </tr>\n",
       "    <tr>\n",
       "      <th>5</th>\n",
       "      <td>10</td>\n",
       "      <td>111.896648</td>\n",
       "    </tr>\n",
       "    <tr>\n",
       "      <th>6</th>\n",
       "      <td>9</td>\n",
       "      <td>128.288378</td>\n",
       "    </tr>\n",
       "    <tr>\n",
       "      <th>7</th>\n",
       "      <td>11</td>\n",
       "      <td>119.481182</td>\n",
       "    </tr>\n",
       "  </tbody>\n",
       "</table>\n",
       "</div>"
      ],
      "text/plain": [
       "   ID  Average Glucose\n",
       "0  13       127.456796\n",
       "1   3       107.886620\n",
       "2   4       112.646488\n",
       "3   5       104.728303\n",
       "4   6       124.586934\n",
       "5  10       111.896648\n",
       "6   9       128.288378\n",
       "7  11       119.481182"
      ]
     },
     "execution_count": 32,
     "metadata": {},
     "output_type": "execute_result"
    }
   ],
   "source": [
    "prediabetic_df\n"
   ]
  },
  {
   "cell_type": "code",
   "execution_count": 33,
   "id": "c1e7e947",
   "metadata": {},
   "outputs": [
    {
     "data": {
      "text/html": [
       "<div>\n",
       "<style scoped>\n",
       "    .dataframe tbody tr th:only-of-type {\n",
       "        vertical-align: middle;\n",
       "    }\n",
       "\n",
       "    .dataframe tbody tr th {\n",
       "        vertical-align: top;\n",
       "    }\n",
       "\n",
       "    .dataframe thead th {\n",
       "        text-align: right;\n",
       "    }\n",
       "</style>\n",
       "<table border=\"1\" class=\"dataframe\">\n",
       "  <thead>\n",
       "    <tr style=\"text-align: right;\">\n",
       "      <th></th>\n",
       "      <th>ID</th>\n",
       "      <th>Average Glucose</th>\n",
       "    </tr>\n",
       "  </thead>\n",
       "  <tbody>\n",
       "    <tr>\n",
       "      <th>0</th>\n",
       "      <td>1</td>\n",
       "      <td>106.093713</td>\n",
       "    </tr>\n",
       "    <tr>\n",
       "      <th>1</th>\n",
       "      <td>2</td>\n",
       "      <td>130.433223</td>\n",
       "    </tr>\n",
       "    <tr>\n",
       "      <th>2</th>\n",
       "      <td>7</td>\n",
       "      <td>93.072950</td>\n",
       "    </tr>\n",
       "    <tr>\n",
       "      <th>3</th>\n",
       "      <td>8</td>\n",
       "      <td>111.432335</td>\n",
       "    </tr>\n",
       "    <tr>\n",
       "      <th>4</th>\n",
       "      <td>12</td>\n",
       "      <td>122.160904</td>\n",
       "    </tr>\n",
       "    <tr>\n",
       "      <th>5</th>\n",
       "      <td>14</td>\n",
       "      <td>116.153571</td>\n",
       "    </tr>\n",
       "    <tr>\n",
       "      <th>6</th>\n",
       "      <td>15</td>\n",
       "      <td>109.428571</td>\n",
       "    </tr>\n",
       "    <tr>\n",
       "      <th>7</th>\n",
       "      <td>16</td>\n",
       "      <td>105.606939</td>\n",
       "    </tr>\n",
       "  </tbody>\n",
       "</table>\n",
       "</div>"
      ],
      "text/plain": [
       "   ID  Average Glucose\n",
       "0   1       106.093713\n",
       "1   2       130.433223\n",
       "2   7        93.072950\n",
       "3   8       111.432335\n",
       "4  12       122.160904\n",
       "5  14       116.153571\n",
       "6  15       109.428571\n",
       "7  16       105.606939"
      ]
     },
     "execution_count": 33,
     "metadata": {},
     "output_type": "execute_result"
    }
   ],
   "source": [
    "non_prediabetic_df"
   ]
  },
  {
   "cell_type": "code",
   "execution_count": 36,
   "id": "0a11da0c",
   "metadata": {},
   "outputs": [
    {
     "data": {
      "text/html": [
       "<div>\n",
       "<style scoped>\n",
       "    .dataframe tbody tr th:only-of-type {\n",
       "        vertical-align: middle;\n",
       "    }\n",
       "\n",
       "    .dataframe tbody tr th {\n",
       "        vertical-align: top;\n",
       "    }\n",
       "\n",
       "    .dataframe thead th {\n",
       "        text-align: right;\n",
       "    }\n",
       "</style>\n",
       "<table border=\"1\" class=\"dataframe\">\n",
       "  <thead>\n",
       "    <tr style=\"text-align: right;\">\n",
       "      <th></th>\n",
       "      <th>ID</th>\n",
       "      <th>Average Glucose</th>\n",
       "    </tr>\n",
       "  </thead>\n",
       "  <tbody>\n",
       "    <tr>\n",
       "      <th>0</th>\n",
       "      <td>13</td>\n",
       "      <td>127.456796</td>\n",
       "    </tr>\n",
       "    <tr>\n",
       "      <th>1</th>\n",
       "      <td>2</td>\n",
       "      <td>130.433223</td>\n",
       "    </tr>\n",
       "    <tr>\n",
       "      <th>2</th>\n",
       "      <td>9</td>\n",
       "      <td>128.288378</td>\n",
       "    </tr>\n",
       "    <tr>\n",
       "      <th>3</th>\n",
       "      <td>11</td>\n",
       "      <td>119.481182</td>\n",
       "    </tr>\n",
       "    <tr>\n",
       "      <th>4</th>\n",
       "      <td>12</td>\n",
       "      <td>122.160904</td>\n",
       "    </tr>\n",
       "    <tr>\n",
       "      <th>5</th>\n",
       "      <td>14</td>\n",
       "      <td>116.153571</td>\n",
       "    </tr>\n",
       "    <tr>\n",
       "      <th>6</th>\n",
       "      <td>16</td>\n",
       "      <td>105.606939</td>\n",
       "    </tr>\n",
       "  </tbody>\n",
       "</table>\n",
       "</div>"
      ],
      "text/plain": [
       "   ID  Average Glucose\n",
       "0  13       127.456796\n",
       "1   2       130.433223\n",
       "2   9       128.288378\n",
       "3  11       119.481182\n",
       "4  12       122.160904\n",
       "5  14       116.153571\n",
       "6  16       105.606939"
      ]
     },
     "execution_count": 36,
     "metadata": {},
     "output_type": "execute_result"
    }
   ],
   "source": [
    "male_df"
   ]
  },
  {
   "cell_type": "code",
   "execution_count": 37,
   "id": "5efb47b5",
   "metadata": {},
   "outputs": [
    {
     "data": {
      "text/html": [
       "<div>\n",
       "<style scoped>\n",
       "    .dataframe tbody tr th:only-of-type {\n",
       "        vertical-align: middle;\n",
       "    }\n",
       "\n",
       "    .dataframe tbody tr th {\n",
       "        vertical-align: top;\n",
       "    }\n",
       "\n",
       "    .dataframe thead th {\n",
       "        text-align: right;\n",
       "    }\n",
       "</style>\n",
       "<table border=\"1\" class=\"dataframe\">\n",
       "  <thead>\n",
       "    <tr style=\"text-align: right;\">\n",
       "      <th></th>\n",
       "      <th>ID</th>\n",
       "      <th>Average Glucose</th>\n",
       "    </tr>\n",
       "  </thead>\n",
       "  <tbody>\n",
       "    <tr>\n",
       "      <th>0</th>\n",
       "      <td>1</td>\n",
       "      <td>106.093713</td>\n",
       "    </tr>\n",
       "    <tr>\n",
       "      <th>1</th>\n",
       "      <td>3</td>\n",
       "      <td>107.886620</td>\n",
       "    </tr>\n",
       "    <tr>\n",
       "      <th>2</th>\n",
       "      <td>4</td>\n",
       "      <td>112.646488</td>\n",
       "    </tr>\n",
       "    <tr>\n",
       "      <th>3</th>\n",
       "      <td>5</td>\n",
       "      <td>104.728303</td>\n",
       "    </tr>\n",
       "    <tr>\n",
       "      <th>4</th>\n",
       "      <td>6</td>\n",
       "      <td>124.586934</td>\n",
       "    </tr>\n",
       "    <tr>\n",
       "      <th>5</th>\n",
       "      <td>7</td>\n",
       "      <td>93.072950</td>\n",
       "    </tr>\n",
       "    <tr>\n",
       "      <th>6</th>\n",
       "      <td>8</td>\n",
       "      <td>111.432335</td>\n",
       "    </tr>\n",
       "    <tr>\n",
       "      <th>7</th>\n",
       "      <td>10</td>\n",
       "      <td>111.896648</td>\n",
       "    </tr>\n",
       "    <tr>\n",
       "      <th>8</th>\n",
       "      <td>15</td>\n",
       "      <td>109.428571</td>\n",
       "    </tr>\n",
       "  </tbody>\n",
       "</table>\n",
       "</div>"
      ],
      "text/plain": [
       "   ID  Average Glucose\n",
       "0   1       106.093713\n",
       "1   3       107.886620\n",
       "2   4       112.646488\n",
       "3   5       104.728303\n",
       "4   6       124.586934\n",
       "5   7        93.072950\n",
       "6   8       111.432335\n",
       "7  10       111.896648\n",
       "8  15       109.428571"
      ]
     },
     "execution_count": 37,
     "metadata": {},
     "output_type": "execute_result"
    }
   ],
   "source": [
    "female_df"
   ]
  },
  {
   "cell_type": "code",
   "execution_count": 40,
   "id": "55d41a93",
   "metadata": {},
   "outputs": [
    {
     "data": {
      "image/png": "[encoded data removed]",
      "text/plain": [
       "<Figure size 1000x600 with 1 Axes>"
      ]
     },
     "metadata": {},
     "output_type": "display_data"
    }
   ],
   "source": [
    "# graph the prediabetic and non-prediabetic patients with 2 lines representing the means of the two groups\n",
    "import matplotlib.pyplot as plt\n",
    "import seaborn as sns\n",
    "import numpy as np\n",
    "# set the style of the graph\n",
    "sns.set(style=\"whitegrid\")\n",
    "# create a figure and axis\n",
    "fig, ax = plt.subplots(figsize=(10, 6))\n",
    "# plot the average glucose levels for prediabetic and non-prediabetic patients\n",
    "# plot constant lines for the means of each group\n",
    "ax.axhline(prediabetic_df['Average Glucose'].mean(), color='orange', linestyle='--', label='Prediabetic Mean')\n",
    "ax.axhline(non_prediabetic_df['Average Glucose'].mean(), color='blue', linestyle='--', label='Non-Prediabetic Mean')\n",
    "# create a bar plot of the average glucose levels for prediabetic and non-prediabetic patients\n",
    "sns.barplot(x='ID', y='Average Glucose', data=prediabetic_df, color='orange', label='Prediabetic')\n",
    "sns.barplot(x='ID', y='Average Glucose', data=non_prediabetic_df, color='blue', label='Non-Prediabetic')\n",
    "# set the title and labels\n",
    "ax.set_title('Average Glucose Levels for Prediabetic and Non-Prediabetic Patients')\n",
    "ax.set_xlabel('Patient ID')\n",
    "ax.set_ylabel('Average Glucose Level')\n",
    "# set the x-axis ticks to be the patient IDs\n",
    "ax.set_xticks(range(len(prediabetic_df)))\n",
    "ax.set_xticklabels(prediabetic_df['ID'], rotation=90)\n",
    "# add a legend\n",
    "ax.legend()\n",
    "# show the plot\n",
    "plt.tight_layout()\n",
    "plt.show()"
   ]
  },
  {
   "cell_type": "code",
   "execution_count": null,
   "id": "64c7ce1e",
   "metadata": {},
   "outputs": [],
   "source": [
    "# plot the male and female groups with 2 lines representing the means of the two groups\n",
    "# create a figure and axis\n",
    "fig, ax = plt.subplots(figsize=(10, 6))\n",
    "# plot the average glucose levels for\n",
    "# plot constant lines for the means of each group\n",
    "ax.axhline(prediabetic_df['male_df'].mean(), color='orange', linestyle='--', label='Male Mean')\n",
    "ax.axhline(non_prediabetic_df['female'].mean(), color='blue', linestyle='--', label='Female Mean')"
   ]
  }
 ],
 "metadata": {
  "kernelspec": {
   "display_name": "Python 3",
   "language": "python",
   "name": "python3"
  },
  "language_info": {
   "codemirror_mode": {
    "name": "ipython",
    "version": 3
   },
   "file_extension": ".py",
   "mimetype": "text/x-python",
   "name": "python",
   "nbconvert_exporter": "python",
   "pygments_lexer": "ipython3",
   "version": "3.12.6"
  }
 },
 "nbformat": 4,
 "nbformat_minor": 5
}
