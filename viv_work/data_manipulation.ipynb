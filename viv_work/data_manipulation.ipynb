{
 "cells": [
  {
   "cell_type": "markdown",
   "id": "fea641ec",
   "metadata": {},
   "source": [
    "I want to manipulate the original data and get spike - initial as a column."
   ]
  },
  {
   "cell_type": "code",
   "execution_count": 1,
   "id": "65331144",
   "metadata": {},
   "outputs": [],
   "source": [
    "import pandas as pd\n",
    "import plotly.express as px\n",
    "from pathlib import Path"
   ]
  },
  {
   "cell_type": "code",
   "execution_count": 2,
   "id": "5e5a36a2",
   "metadata": {},
   "outputs": [],
   "source": [
    "INPUT_DIR = Path('../', 'jsons')\n",
    "assert INPUT_DIR.exists(), f\"Directory {INPUT_DIR} does not exist. Check path (or load in JSONs from Project 3)\""
   ]
  },
  {
   "cell_type": "code",
   "execution_count": 9,
   "id": "f11f297b",
   "metadata": {},
   "outputs": [],
   "source": [
    "data = pd.read_json(Path(INPUT_DIR, 'combined_meal.json'))"
   ]
  },
  {
   "cell_type": "code",
   "execution_count": 20,
   "id": "b3392264",
   "metadata": {},
   "outputs": [
    {
     "data": {
      "application/vnd.microsoft.datawrangler.viewer.v0+json": {
       "columns": [
        {
         "name": "index",
         "rawType": "object",
         "type": "string"
        },
        {
         "name": "0",
         "rawType": "object",
         "type": "unknown"
        }
       ],
       "ref": "de89cabe-9d52-448c-aaf1-87d0ccb487b3",
       "rows": [
        [
         "count",
         "17885"
        ],
        [
         "mean",
         "0 days 01:04:59.515012580"
        ],
        [
         "std",
         "0 days 00:49:02.241607399"
        ],
        [
         "min",
         "-1 days +23:40:00"
        ],
        [
         "25%",
         "0 days 00:22:28"
        ],
        [
         "50%",
         "0 days 01:05:04"
        ],
        [
         "75%",
         "0 days 01:47:11"
        ],
        [
         "max",
         "0 days 02:30:00"
        ]
       ],
       "shape": {
        "columns": 1,
        "rows": 8
       }
      },
      "text/plain": [
       "count                        17885\n",
       "mean     0 days 01:04:59.515012580\n",
       "std      0 days 00:49:02.241607399\n",
       "min              -1 days +23:40:00\n",
       "25%                0 days 00:22:28\n",
       "50%                0 days 01:05:04\n",
       "75%                0 days 01:47:11\n",
       "max                0 days 02:30:00\n",
       "dtype: object"
      ]
     },
     "execution_count": 20,
     "metadata": {},
     "output_type": "execute_result"
    }
   ],
   "source": [
    "(data['glucose_time'] - data['food_time']).describe()\n",
    "\n",
    "# 1. Compute the difference between glucose levels and pre-meal glucose levels for all foods near a meal\n"
   ]
  },
  {
   "cell_type": "code",
   "execution_count": 22,
   "id": "ca2346be",
   "metadata": {},
   "outputs": [],
   "source": [
    "glucose_spikes = pd.read_csv('glucose_spikes.csv')"
   ]
  },
  {
   "cell_type": "code",
   "execution_count": 29,
   "id": "90554e3f",
   "metadata": {},
   "outputs": [],
   "source": [
    "glucose_spikes['food_time'] = pd.to_datetime(glucose_spikes['food_time'])"
   ]
  },
  {
   "cell_type": "code",
   "execution_count": 35,
   "id": "44021c33",
   "metadata": {},
   "outputs": [
    {
     "data": {
      "text/plain": [
       "dtype('<M8[ns]')"
      ]
     },
     "execution_count": 35,
     "metadata": {},
     "output_type": "execute_result"
    }
   ],
   "source": [
    "glucose_spikes['food_time'].dtype"
   ]
  },
  {
   "cell_type": "code",
   "execution_count": 37,
   "id": "83f0efaa",
   "metadata": {},
   "outputs": [
    {
     "data": {
      "text/plain": [
       "True"
      ]
     },
     "execution_count": 37,
     "metadata": {},
     "output_type": "execute_result"
    }
   ],
   "source": [
    "data['food_time'].dtype == glucose_spikes['food_time'].dtype"
   ]
  },
  {
   "cell_type": "code",
   "execution_count": 46,
   "id": "b9d592e7",
   "metadata": {},
   "outputs": [],
   "source": [
    "merged_data = (\n",
    "  glucose_spikes[['food_time', 'patient_id', 'pre_meal_glucose']]\n",
    "  .merge(data, on = ['food_time', 'patient_id'], how = 'left')\n",
    ")"
   ]
  },
  {
   "cell_type": "code",
   "execution_count": 48,
   "id": "e7c20744",
   "metadata": {},
   "outputs": [
    {
     "data": {
      "application/vnd.microsoft.datawrangler.viewer.v0+json": {
       "columns": [
        {
         "name": "index",
         "rawType": "int64",
         "type": "integer"
        },
        {
         "name": "glucose_diff",
         "rawType": "float64",
         "type": "float"
        }
       ],
       "ref": "f6b3b9a9-ab2f-4a31-9338-453d11417eb1",
       "rows": [
        [
         "0",
         "-2.25"
        ],
        [
         "1",
         "1.75"
        ],
        [
         "2",
         "2.75"
        ],
        [
         "3",
         "-2.25"
        ],
        [
         "4",
         "-6.25"
        ],
        [
         "5",
         "-5.25"
        ],
        [
         "6",
         "4.75"
        ],
        [
         "7",
         "20.75"
        ],
        [
         "8",
         "39.75"
        ],
        [
         "9",
         "52.75"
        ],
        [
         "10",
         "61.75"
        ],
        [
         "11",
         "67.75"
        ],
        [
         "12",
         "73.75"
        ],
        [
         "13",
         "77.75"
        ],
        [
         "14",
         "75.75"
        ],
        [
         "15",
         "66.75"
        ],
        [
         "16",
         "56.75"
        ],
        [
         "17",
         "50.75"
        ],
        [
         "18",
         "48.75"
        ],
        [
         "19",
         "47.75"
        ],
        [
         "20",
         "45.75"
        ],
        [
         "21",
         "44.75"
        ],
        [
         "22",
         "44.75"
        ],
        [
         "23",
         "49.75"
        ],
        [
         "24",
         "53.75"
        ],
        [
         "25",
         "57.75"
        ],
        [
         "26",
         "57.75"
        ],
        [
         "27",
         "58.75"
        ],
        [
         "28",
         "57.75"
        ],
        [
         "29",
         "57.75"
        ],
        [
         "30",
         "54.75"
        ],
        [
         "31",
         "51.75"
        ],
        [
         "32",
         "47.75"
        ],
        [
         "33",
         "42.75"
        ],
        [
         "34",
         "5.5"
        ],
        [
         "35",
         "2.5"
        ],
        [
         "36",
         "-1.5"
        ],
        [
         "37",
         "-6.5"
        ],
        [
         "38",
         "-10.5"
        ],
        [
         "39",
         "-10.5"
        ],
        [
         "40",
         "-8.5"
        ],
        [
         "41",
         "-10.5"
        ],
        [
         "42",
         "-14.5"
        ],
        [
         "43",
         "-16.5"
        ],
        [
         "44",
         "-19.5"
        ],
        [
         "45",
         "-25.5"
        ],
        [
         "46",
         "-31.5"
        ],
        [
         "47",
         "-32.5"
        ],
        [
         "48",
         "-28.5"
        ],
        [
         "49",
         "-24.5"
        ]
       ],
       "shape": {
        "columns": 1,
        "rows": 17744
       }
      },
      "text/plain": [
       "0        -2.25\n",
       "1         1.75\n",
       "2         2.75\n",
       "3        -2.25\n",
       "4        -6.25\n",
       "         ...  \n",
       "17739    44.25\n",
       "17740    46.25\n",
       "17741    46.25\n",
       "17742    46.25\n",
       "17743    47.25\n",
       "Name: glucose_diff, Length: 17744, dtype: float64"
      ]
     },
     "execution_count": 48,
     "metadata": {},
     "output_type": "execute_result"
    }
   ],
   "source": [
    "merged_data['glucose_diff'] = (merged_data['glucose'] - merged_data['pre_meal_glucose'])\n",
    "merged_data['glucose_diff']"
   ]
  },
  {
   "cell_type": "code",
   "execution_count": 51,
   "id": "0dc38c7f",
   "metadata": {},
   "outputs": [],
   "source": [
    "merged_data.to_csv('line_plot_differences.csv', index = False)"
   ]
  },
  {
   "cell_type": "code",
   "execution_count": null,
   "id": "d87b3593",
   "metadata": {},
   "outputs": [],
   "source": []
  }
 ],
 "metadata": {
  "kernelspec": {
   "display_name": ".venv",
   "language": "python",
   "name": "python3"
  },
  "language_info": {
   "codemirror_mode": {
    "name": "ipython",
    "version": 3
   },
   "file_extension": ".py",
   "mimetype": "text/x-python",
   "name": "python",
   "nbconvert_exporter": "python",
   "pygments_lexer": "ipython3",
   "version": "3.11.4"
  }
 },
 "nbformat": 4,
 "nbformat_minor": 5
}
