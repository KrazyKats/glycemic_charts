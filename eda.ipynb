{
 "cells": [
  {
   "cell_type": "code",
   "execution_count": 76,
   "id": "9bcfdd02",
   "metadata": {},
   "outputs": [],
   "source": [
    "import pandas as pd \n",
    "import numpy as np \n",
    "import plotly.express as px\n",
    "from pathlib import Path"
   ]
  },
  {
   "cell_type": "code",
   "execution_count": 77,
   "id": "32ba8875",
   "metadata": {},
   "outputs": [],
   "source": [
    "# Subset of patients to explore, 3 prediabetic and 3 not, 3 female and 3 male\n",
    "patients = [1, 2, 4, 9, 14]"
   ]
  },
  {
   "cell_type": "code",
   "execution_count": 78,
   "id": "05e49f0c",
   "metadata": {},
   "outputs": [
    {
     "data": {
      "text/html": [
       "<div>\n",
       "<style scoped>\n",
       "    .dataframe tbody tr th:only-of-type {\n",
       "        vertical-align: middle;\n",
       "    }\n",
       "\n",
       "    .dataframe tbody tr th {\n",
       "        vertical-align: top;\n",
       "    }\n",
       "\n",
       "    .dataframe thead th {\n",
       "        text-align: right;\n",
       "    }\n",
       "</style>\n",
       "<table border=\"1\" class=\"dataframe\">\n",
       "  <thead>\n",
       "    <tr style=\"text-align: right;\">\n",
       "      <th></th>\n",
       "      <th>ID</th>\n",
       "      <th>Gender</th>\n",
       "      <th>HbA1c</th>\n",
       "    </tr>\n",
       "  </thead>\n",
       "  <tbody>\n",
       "    <tr>\n",
       "      <th>1</th>\n",
       "      <td>1</td>\n",
       "      <td>FEMALE</td>\n",
       "      <td>5.5</td>\n",
       "    </tr>\n",
       "    <tr>\n",
       "      <th>3</th>\n",
       "      <td>4</td>\n",
       "      <td>FEMALE</td>\n",
       "      <td>6.4</td>\n",
       "    </tr>\n",
       "    <tr>\n",
       "      <th>5</th>\n",
       "      <td>2</td>\n",
       "      <td>MALE</td>\n",
       "      <td>5.6</td>\n",
       "    </tr>\n",
       "    <tr>\n",
       "      <th>10</th>\n",
       "      <td>9</td>\n",
       "      <td>MALE</td>\n",
       "      <td>6.1</td>\n",
       "    </tr>\n",
       "    <tr>\n",
       "      <th>13</th>\n",
       "      <td>14</td>\n",
       "      <td>MALE</td>\n",
       "      <td>5.5</td>\n",
       "    </tr>\n",
       "  </tbody>\n",
       "</table>\n",
       "</div>"
      ],
      "text/plain": [
       "    ID  Gender  HbA1c\n",
       "1    1  FEMALE    5.5\n",
       "3    4  FEMALE    6.4\n",
       "5    2    MALE    5.6\n",
       "10   9    MALE    6.1\n",
       "13  14    MALE    5.5"
      ]
     },
     "execution_count": 78,
     "metadata": {},
     "output_type": "execute_result"
    }
   ],
   "source": [
    "# Load in demographic data\n",
    "demo = pd.read_csv(Path('data') / 'Demographics.csv')\n",
    "key = demo[demo[\"ID\"].isin([1,2,4,9,14])]\n",
    "key"
   ]
  },
  {
   "cell_type": "code",
   "execution_count": 97,
   "id": "addcd117",
   "metadata": {},
   "outputs": [
    {
     "data": {
      "text/plain": [
       "np.float64(6.4)"
      ]
     },
     "execution_count": 97,
     "metadata": {},
     "output_type": "execute_result"
    }
   ],
   "source": [
    "key[key[\"ID\"] == 4][\"HbA1c\"].iloc[0]"
   ]
  },
  {
   "cell_type": "code",
   "execution_count": 79,
   "id": "4fc85ac9",
   "metadata": {},
   "outputs": [],
   "source": [
    "# Each element of the list is glucose data for a specfic patient\n",
    "dex = []\n",
    "for i, v in enumerate(patients):    \n",
    "    dex.append(pd.read_csv(Path('data') / 'dex' / f'Dexcom_{str(v).zfill(3)}.csv'))\n",
    "\n",
    "# Clean the data \n",
    "for i, v in enumerate(dex):\n",
    "    dex[i] = dex[i].dropna(subset=[\"Timestamp (YYYY-MM-DDThh:mm:ss)\"])\n",
    "    dex[i] = dex[i][[\"Timestamp (YYYY-MM-DDThh:mm:ss)\", \"Glucose Value (mg/dL)\"]]\n",
    "    dex[i][\"Timestamp (YYYY-MM-DDThh:mm:ss)\"] = pd.to_datetime(dex[i][\"Timestamp (YYYY-MM-DDThh:mm:ss)\"])"
   ]
  },
  {
   "cell_type": "code",
   "execution_count": 86,
   "id": "e25b443e",
   "metadata": {},
   "outputs": [],
   "source": [
    "food = []\n",
    "for i, v in enumerate(patients):    \n",
    "    food.append(pd.read_csv(Path('data') / 'food' / f'Food_Log_{str(v).zfill(3)}.csv'))\n",
    "\n",
    "for i, v in enumerate(food):\n",
    "    food[i][\"time_begin\"] = pd.to_datetime(food[i][\"time_begin\"])"
   ]
  },
  {
   "cell_type": "code",
   "execution_count": 93,
   "id": "5fa50035",
   "metadata": {},
   "outputs": [
    {
     "name": "stderr",
     "output_type": "stream",
     "text": [
      "C:\\Users\\1khal\\AppData\\Local\\Temp\\ipykernel_15160\\1775773120.py:6: UserWarning: Could not infer format, so each element will be parsed individually, falling back to `dateutil`. To ensure parsing is consistent and as-expected, please specify a format.\n",
      "  hr[i][\"datetime\"] = pd.to_datetime(hr[i][\"datetime\"])\n"
     ]
    }
   ],
   "source": [
    "hr = []\n",
    "for i, v in enumerate(patients):    \n",
    "    hr.append(pd.read_csv(Path('data') / 'hr' / f'HR_{str(v).zfill(3)}.csv'))\n",
    "\n",
    "for i, v in enumerate(hr):\n",
    "    hr[i][\"datetime\"] = pd.to_datetime(hr[i][\"datetime\"])"
   ]
  },
  {
   "cell_type": "markdown",
   "id": "7a00ca01",
   "metadata": {},
   "source": [
    "Create a line graph showing heart rate overtime, for simplicity we will only consider the first day (different for each patient). Plot the heart rates of each patient, coloring in based on prediabetes. "
   ]
  },
  {
   "cell_type": "code",
   "execution_count": 83,
   "id": "07e39837",
   "metadata": {},
   "outputs": [
    {
     "data": {
      "text/plain": [
       "13"
      ]
     },
     "execution_count": 83,
     "metadata": {},
     "output_type": "execute_result"
    }
   ],
   "source": [
    "a = pd.to_datetime(hr[0][\"datetime\"], format=\"%m/%d/%y %H:%M\")\n",
    "first_day = a.iloc[0].day\n",
    "first_day"
   ]
  },
  {
   "cell_type": "code",
   "execution_count": 84,
   "id": "7101beec",
   "metadata": {},
   "outputs": [
    {
     "data": {
      "text/plain": [
       "0        2020-02-13 15:29:00\n",
       "1        2020-02-13 15:29:00\n",
       "2        2020-02-13 15:29:00\n",
       "3        2020-02-13 15:29:00\n",
       "4        2020-02-13 15:29:00\n",
       "                 ...        \n",
       "634183   2020-02-22 17:55:00\n",
       "634184   2020-02-22 17:56:00\n",
       "634185   2020-02-22 17:56:00\n",
       "634186   2020-02-22 17:56:00\n",
       "634187   2020-02-22 17:56:00\n",
       "Name: datetime, Length: 634188, dtype: datetime64[ns]"
      ]
     },
     "execution_count": 84,
     "metadata": {},
     "output_type": "execute_result"
    }
   ],
   "source": [
    "a"
   ]
  },
  {
   "cell_type": "code",
   "execution_count": 108,
   "id": "270d10fa",
   "metadata": {},
   "outputs": [
    {
     "name": "stderr",
     "output_type": "stream",
     "text": [
      "C:\\Users\\1khal\\AppData\\Local\\Temp\\ipykernel_15160\\1617653222.py:15: SettingWithCopyWarning:\n",
      "\n",
      "\n",
      "A value is trying to be set on a copy of a slice from a DataFrame.\n",
      "Try using .loc[row_indexer,col_indexer] = value instead\n",
      "\n",
      "See the caveats in the documentation: https://pandas.pydata.org/pandas-docs/stable/user_guide/indexing.html#returning-a-view-versus-a-copy\n",
      "\n",
      "C:\\Users\\1khal\\AppData\\Local\\Temp\\ipykernel_15160\\1617653222.py:16: SettingWithCopyWarning:\n",
      "\n",
      "\n",
      "A value is trying to be set on a copy of a slice from a DataFrame.\n",
      "Try using .loc[row_indexer,col_indexer] = value instead\n",
      "\n",
      "See the caveats in the documentation: https://pandas.pydata.org/pandas-docs/stable/user_guide/indexing.html#returning-a-view-versus-a-copy\n",
      "\n",
      "C:\\Users\\1khal\\AppData\\Local\\Temp\\ipykernel_15160\\1617653222.py:15: SettingWithCopyWarning:\n",
      "\n",
      "\n",
      "A value is trying to be set on a copy of a slice from a DataFrame.\n",
      "Try using .loc[row_indexer,col_indexer] = value instead\n",
      "\n",
      "See the caveats in the documentation: https://pandas.pydata.org/pandas-docs/stable/user_guide/indexing.html#returning-a-view-versus-a-copy\n",
      "\n",
      "C:\\Users\\1khal\\AppData\\Local\\Temp\\ipykernel_15160\\1617653222.py:16: SettingWithCopyWarning:\n",
      "\n",
      "\n",
      "A value is trying to be set on a copy of a slice from a DataFrame.\n",
      "Try using .loc[row_indexer,col_indexer] = value instead\n",
      "\n",
      "See the caveats in the documentation: https://pandas.pydata.org/pandas-docs/stable/user_guide/indexing.html#returning-a-view-versus-a-copy\n",
      "\n",
      "C:\\Users\\1khal\\AppData\\Local\\Temp\\ipykernel_15160\\1617653222.py:15: SettingWithCopyWarning:\n",
      "\n",
      "\n",
      "A value is trying to be set on a copy of a slice from a DataFrame.\n",
      "Try using .loc[row_indexer,col_indexer] = value instead\n",
      "\n",
      "See the caveats in the documentation: https://pandas.pydata.org/pandas-docs/stable/user_guide/indexing.html#returning-a-view-versus-a-copy\n",
      "\n",
      "C:\\Users\\1khal\\AppData\\Local\\Temp\\ipykernel_15160\\1617653222.py:16: SettingWithCopyWarning:\n",
      "\n",
      "\n",
      "A value is trying to be set on a copy of a slice from a DataFrame.\n",
      "Try using .loc[row_indexer,col_indexer] = value instead\n",
      "\n",
      "See the caveats in the documentation: https://pandas.pydata.org/pandas-docs/stable/user_guide/indexing.html#returning-a-view-versus-a-copy\n",
      "\n",
      "C:\\Users\\1khal\\AppData\\Local\\Temp\\ipykernel_15160\\1617653222.py:15: SettingWithCopyWarning:\n",
      "\n",
      "\n",
      "A value is trying to be set on a copy of a slice from a DataFrame.\n",
      "Try using .loc[row_indexer,col_indexer] = value instead\n",
      "\n",
      "See the caveats in the documentation: https://pandas.pydata.org/pandas-docs/stable/user_guide/indexing.html#returning-a-view-versus-a-copy\n",
      "\n",
      "C:\\Users\\1khal\\AppData\\Local\\Temp\\ipykernel_15160\\1617653222.py:16: SettingWithCopyWarning:\n",
      "\n",
      "\n",
      "A value is trying to be set on a copy of a slice from a DataFrame.\n",
      "Try using .loc[row_indexer,col_indexer] = value instead\n",
      "\n",
      "See the caveats in the documentation: https://pandas.pydata.org/pandas-docs/stable/user_guide/indexing.html#returning-a-view-versus-a-copy\n",
      "\n",
      "C:\\Users\\1khal\\AppData\\Local\\Temp\\ipykernel_15160\\1617653222.py:15: SettingWithCopyWarning:\n",
      "\n",
      "\n",
      "A value is trying to be set on a copy of a slice from a DataFrame.\n",
      "Try using .loc[row_indexer,col_indexer] = value instead\n",
      "\n",
      "See the caveats in the documentation: https://pandas.pydata.org/pandas-docs/stable/user_guide/indexing.html#returning-a-view-versus-a-copy\n",
      "\n",
      "C:\\Users\\1khal\\AppData\\Local\\Temp\\ipykernel_15160\\1617653222.py:16: SettingWithCopyWarning:\n",
      "\n",
      "\n",
      "A value is trying to be set on a copy of a slice from a DataFrame.\n",
      "Try using .loc[row_indexer,col_indexer] = value instead\n",
      "\n",
      "See the caveats in the documentation: https://pandas.pydata.org/pandas-docs/stable/user_guide/indexing.html#returning-a-view-versus-a-copy\n",
      "\n"
     ]
    }
   ],
   "source": [
    "# Create a new df\n",
    "hr_df_1 = pd.DataFrame()\n",
    "# For each patient:\n",
    "for i, v in enumerate(patients):\n",
    "#   Query down heart rates for only the first day\n",
    "    first_day = hr[i][\"datetime\"].iloc[0].day\n",
    "    temp = hr[i][hr[i][\"datetime\"].dt.day == first_day]\n",
    "#   Add column for prediabeticness\n",
    "    prediabetic = False\n",
    "    if key[key[\"ID\"] == v][\"HbA1c\"].iloc[0] > 5.7:\n",
    "        prediabetic = True\n",
    "\n",
    "    prediabetic_col = [prediabetic] * temp.shape[0]\n",
    "    id_col = [v] * temp.shape[0]\n",
    "    temp[\"prediabetic\"] = pd.Series(prediabetic_col)\n",
    "    temp[\"ID\"] = pd.Series(id_col)\n",
    "#   Concatenate with df\n",
    "    hr_df_1 = pd.concat([hr_df_1, temp])\n",
    "# Sort and remove duplicates\n",
    "\n"
   ]
  },
  {
   "cell_type": "code",
   "execution_count": 109,
   "id": "f195e81e",
   "metadata": {},
   "outputs": [
    {
     "ename": "ValueError",
     "evalue": "Mime type rendering requires nbformat>=4.2.0 but it is not installed",
     "output_type": "error",
     "traceback": [
      "\u001b[31m---------------------------------------------------------------------------\u001b[39m",
      "\u001b[31mValueError\u001b[39m                                Traceback (most recent call last)",
      "\u001b[36mCell\u001b[39m\u001b[36m \u001b[39m\u001b[32mIn[109]\u001b[39m\u001b[32m, line 12\u001b[39m\n\u001b[32m      1\u001b[39m \u001b[38;5;66;03m# Plot\u001b[39;00m\n\u001b[32m      2\u001b[39m fig = px.line(\n\u001b[32m      3\u001b[39m     hr_df_1,\n\u001b[32m      4\u001b[39m     x=\u001b[33m'\u001b[39m\u001b[33mdatetime\u001b[39m\u001b[33m'\u001b[39m,\n\u001b[32m   (...)\u001b[39m\u001b[32m      9\u001b[39m     labels={\u001b[33m'\u001b[39m\u001b[33mprediabetic\u001b[39m\u001b[33m'\u001b[39m: \u001b[33m'\u001b[39m\u001b[33mPrediabetic Status\u001b[39m\u001b[33m'\u001b[39m}\n\u001b[32m     10\u001b[39m )\n\u001b[32m---> \u001b[39m\u001b[32m12\u001b[39m \u001b[43mfig\u001b[49m\u001b[43m.\u001b[49m\u001b[43mshow\u001b[49m\u001b[43m(\u001b[49m\u001b[43m)\u001b[49m\n",
      "\u001b[36mFile \u001b[39m\u001b[32mc:\\Users\\1khal\\OneDrive\\Desktop\\Academics\\UCSD\\DSC 106\\final_project\\glycemic_charts\\.venv\\Lib\\site-packages\\plotly\\basedatatypes.py:3436\u001b[39m, in \u001b[36mBaseFigure.show\u001b[39m\u001b[34m(self, *args, **kwargs)\u001b[39m\n\u001b[32m   3403\u001b[39m \u001b[38;5;250m\u001b[39m\u001b[33;03m\"\"\"\u001b[39;00m\n\u001b[32m   3404\u001b[39m \u001b[33;03mShow a figure using either the default renderer(s) or the renderer(s)\u001b[39;00m\n\u001b[32m   3405\u001b[39m \u001b[33;03mspecified by the renderer argument\u001b[39;00m\n\u001b[32m   (...)\u001b[39m\u001b[32m   3432\u001b[39m \u001b[33;03mNone\u001b[39;00m\n\u001b[32m   3433\u001b[39m \u001b[33;03m\"\"\"\u001b[39;00m\n\u001b[32m   3434\u001b[39m \u001b[38;5;28;01mimport\u001b[39;00m\u001b[38;5;250m \u001b[39m\u001b[34;01mplotly\u001b[39;00m\u001b[34;01m.\u001b[39;00m\u001b[34;01mio\u001b[39;00m\u001b[38;5;250m \u001b[39m\u001b[38;5;28;01mas\u001b[39;00m\u001b[38;5;250m \u001b[39m\u001b[34;01mpio\u001b[39;00m\n\u001b[32m-> \u001b[39m\u001b[32m3436\u001b[39m \u001b[38;5;28;01mreturn\u001b[39;00m \u001b[43mpio\u001b[49m\u001b[43m.\u001b[49m\u001b[43mshow\u001b[49m\u001b[43m(\u001b[49m\u001b[38;5;28;43mself\u001b[39;49m\u001b[43m,\u001b[49m\u001b[43m \u001b[49m\u001b[43m*\u001b[49m\u001b[43margs\u001b[49m\u001b[43m,\u001b[49m\u001b[43m \u001b[49m\u001b[43m*\u001b[49m\u001b[43m*\u001b[49m\u001b[43mkwargs\u001b[49m\u001b[43m)\u001b[49m\n",
      "\u001b[36mFile \u001b[39m\u001b[32mc:\\Users\\1khal\\OneDrive\\Desktop\\Academics\\UCSD\\DSC 106\\final_project\\glycemic_charts\\.venv\\Lib\\site-packages\\plotly\\io\\_renderers.py:425\u001b[39m, in \u001b[36mshow\u001b[39m\u001b[34m(fig, renderer, validate, **kwargs)\u001b[39m\n\u001b[32m    420\u001b[39m     \u001b[38;5;28;01mraise\u001b[39;00m \u001b[38;5;167;01mValueError\u001b[39;00m(\n\u001b[32m    421\u001b[39m         \u001b[33m\"\u001b[39m\u001b[33mMime type rendering requires ipython but it is not installed\u001b[39m\u001b[33m\"\u001b[39m\n\u001b[32m    422\u001b[39m     )\n\u001b[32m    424\u001b[39m \u001b[38;5;28;01mif\u001b[39;00m \u001b[38;5;129;01mnot\u001b[39;00m nbformat \u001b[38;5;129;01mor\u001b[39;00m Version(nbformat.__version__) < Version(\u001b[33m\"\u001b[39m\u001b[33m4.2.0\u001b[39m\u001b[33m\"\u001b[39m):\n\u001b[32m--> \u001b[39m\u001b[32m425\u001b[39m     \u001b[38;5;28;01mraise\u001b[39;00m \u001b[38;5;167;01mValueError\u001b[39;00m(\n\u001b[32m    426\u001b[39m         \u001b[33m\"\u001b[39m\u001b[33mMime type rendering requires nbformat>=4.2.0 but it is not installed\u001b[39m\u001b[33m\"\u001b[39m\n\u001b[32m    427\u001b[39m     )\n\u001b[32m    429\u001b[39m display_jupyter_version_warnings()\n\u001b[32m    431\u001b[39m ipython_display.display(bundle, raw=\u001b[38;5;28;01mTrue\u001b[39;00m)\n",
      "\u001b[31mValueError\u001b[39m: Mime type rendering requires nbformat>=4.2.0 but it is not installed"
     ]
    }
   ],
   "source": [
    "# Plot\n",
    "fig = px.line(\n",
    "    hr_df_1,\n",
    "    x='datetime',\n",
    "    y=' hr',\n",
    "    color='prediabetic',      # color based on diabetes status\n",
    "    line_group='ID',  # separate line per patient\n",
    "    title='Heart Rate Over Time by Patient and Prediabetes Status',\n",
    "    labels={'prediabetic': 'Prediabetic Status'}\n",
    ")\n",
    "\n",
    "fig.show()"
   ]
  }
 ],
 "metadata": {
  "kernelspec": {
   "display_name": ".venv",
   "language": "python",
   "name": "python3"
  },
  "language_info": {
   "codemirror_mode": {
    "name": "ipython",
    "version": 3
   },
   "file_extension": ".py",
   "mimetype": "text/x-python",
   "name": "python",
   "nbconvert_exporter": "python",
   "pygments_lexer": "ipython3",
   "version": "3.11.2"
  }
 },
 "nbformat": 4,
 "nbformat_minor": 5
}
